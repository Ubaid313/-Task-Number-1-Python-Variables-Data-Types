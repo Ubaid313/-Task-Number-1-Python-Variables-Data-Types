{
 "cells": [
  {
   "cell_type": "code",
   "execution_count": 22,
   "id": "a98cde4a-970d-4866-b7f4-39444776310b",
   "metadata": {},
   "outputs": [
    {
     "name": "stdout",
     "output_type": "stream",
     "text": [
      "51\n"
     ]
    }
   ],
   "source": [
    "num1=1\n",
    "num2=50\n",
    "sum=num1+num2\n",
    "print(sum)"
   ]
  },
  {
   "cell_type": "code",
   "execution_count": 5,
   "id": "652900ea-f9d1-4629-b902-08aba96307a9",
   "metadata": {},
   "outputs": [
    {
     "name": "stdin",
     "output_type": "stream",
     "text": [
      "Message:  Hello \n",
      "Message:  World\n"
     ]
    },
    {
     "name": "stdout",
     "output_type": "stream",
     "text": [
      "Hello World\n"
     ]
    }
   ],
   "source": [
    "message1 = input(\"Message: \")\n",
    "message2 = input(\"Message: \")\n",
    "message=message1+message2\n",
    "print(message)"
   ]
  },
  {
   "cell_type": "code",
   "execution_count": 6,
   "id": "6b63f485-7be2-4bdf-9c2e-17d37f00d472",
   "metadata": {},
   "outputs": [
    {
     "name": "stdout",
     "output_type": "stream",
     "text": [
      "Python is fun!\n"
     ]
    }
   ],
   "source": [
    "is_python_fun = True\n",
    "if is_python_fun:\n",
    "    print(\"Python is fun!\")\n",
    "else:\n",
    "    print(\"Python is not fun.\")\n"
   ]
  },
  {
   "cell_type": "code",
   "execution_count": 7,
   "id": "4d9682aa-89c3-46e1-8bac-f673cb7b1f2f",
   "metadata": {},
   "outputs": [
    {
     "name": "stdout",
     "output_type": "stream",
     "text": [
      "Fruits: ['apple', 'banana', 'orange']\n",
      "Updated Fruits: ['apple', 'banana', 'orange', 'grape']\n"
     ]
    }
   ],
   "source": [
    "fruits = ['apple', 'banana', 'orange']\n",
    "print(\"Fruits:\", fruits)\n",
    "fruits.append('grape')\n",
    "print(\"Updated Fruits:\", fruits)"
   ]
  },
  {
   "cell_type": "code",
   "execution_count": 8,
   "id": "02d48e2a-16b8-4f2c-8698-d2d4da007b9f",
   "metadata": {},
   "outputs": [
    {
     "name": "stdout",
     "output_type": "stream",
     "text": [
      "Original Price: 9.99\n",
      "Converted Price: 9\n"
     ]
    }
   ],
   "source": [
    "price = 9.99\n",
    "int_price = int(price)\n",
    "print(\"Original Price:\", price)\n",
    "print(\"Converted Price:\", int_price)"
   ]
  },
  {
   "cell_type": "code",
   "execution_count": 9,
   "id": "98d4ce26-32dd-4643-bb78-dfa7c1535309",
   "metadata": {},
   "outputs": [
    {
     "name": "stdout",
     "output_type": "stream",
     "text": [
      "Student Information: {'name': 'John', 'age': 20, 'grade': 'A'}\n"
     ]
    }
   ],
   "source": [
    "student_info = {'name': 'John', 'age': 20, 'grade': 'A'}\n",
    "print(\"Student Information:\", student_info)"
   ]
  },
  {
   "cell_type": "code",
   "execution_count": 10,
   "id": "e777b43e-4541-4fa8-b2ba-956c1b72363b",
   "metadata": {},
   "outputs": [
    {
     "name": "stdin",
     "output_type": "stream",
     "text": [
      "Enter your age:  20\n"
     ]
    },
    {
     "name": "stdout",
     "output_type": "stream",
     "text": [
      "Adult\n"
     ]
    }
   ],
   "source": [
    "user_age = int(input(\"Enter your age: \"))\n",
    "if user_age < 13:\n",
    "    print(\"Child\")\n",
    "elif 13 <= user_age < 20:\n",
    "    print(\"Teenager\")\n",
    "else:\n",
    "    print(\"Adult\")"
   ]
  },
  {
   "cell_type": "code",
   "execution_count": 11,
   "id": "454102d4-107c-4806-af28-6d75d06568aa",
   "metadata": {},
   "outputs": [
    {
     "name": "stdout",
     "output_type": "stream",
     "text": [
      "Real Part: 3.0\n",
      "Imaginary Part: 4.0\n"
     ]
    }
   ],
   "source": [
    "comp_num = 3 + 4j\n",
    "print(\"Real Part:\", comp_num.real)\n",
    "print(\"Imaginary Part:\", comp_num.imag)"
   ]
  },
  {
   "cell_type": "code",
   "execution_count": 12,
   "id": "08a0b55f-cc32-4b65-88c0-a1c6933d23a5",
   "metadata": {},
   "outputs": [
    {
     "name": "stdout",
     "output_type": "stream",
     "text": [
      "Combined String: Hello World!, Length: 12\n"
     ]
    }
   ],
   "source": [
    "string1 = \"Hello\"\n",
    "string2 = \" World!\"\n",
    "combined_string = string1 + string2\n",
    "print(f\"Combined String: {combined_string}, Length: {len(combined_string)}\")"
   ]
  },
  {
   "cell_type": "code",
   "execution_count": 13,
   "id": "1550dc5f-f7b1-44f6-af94-bea9a1b22b47",
   "metadata": {},
   "outputs": [
    {
     "name": "stdout",
     "output_type": "stream",
     "text": [
      "Third Day of the Week: Wednesday\n"
     ]
    }
   ],
   "source": [
    "days_of_week = ('Monday', 'Tuesday', 'Wednesday', 'Thursday', 'Friday', 'Saturday', 'Sunday')\n",
    "third_day = days_of_week[2]\n",
    "print(\"Third Day of the Week:\", third_day)"
   ]
  },
  {
   "cell_type": "code",
   "execution_count": null,
   "id": "15f537ff-19fa-4857-aa85-5e9da121f148",
   "metadata": {},
   "outputs": [],
   "source": []
  }
 ],
 "metadata": {
  "kernelspec": {
   "display_name": "Python 3 (ipykernel)",
   "language": "python",
   "name": "python3"
  },
  "language_info": {
   "codemirror_mode": {
    "name": "ipython",
    "version": 3
   },
   "file_extension": ".py",
   "mimetype": "text/x-python",
   "name": "python",
   "nbconvert_exporter": "python",
   "pygments_lexer": "ipython3",
   "version": "3.10.10"
  }
 },
 "nbformat": 4,
 "nbformat_minor": 5
}
